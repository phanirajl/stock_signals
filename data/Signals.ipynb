{
 "cells": [
  {
   "cell_type": "code",
   "execution_count": 22,
   "metadata": {},
   "outputs": [],
   "source": [
    "import pandas as pd\n",
    "import os\n",
    "import matplotlib as plt"
   ]
  },
  {
   "cell_type": "code",
   "execution_count": 23,
   "metadata": {},
   "outputs": [
    {
     "data": {
      "text/plain": [
       "['signals.2018-08-17-222339.0.csv', 'signals.2018-08-18-063826.0.csv']"
      ]
     },
     "execution_count": 23,
     "metadata": {},
     "output_type": "execute_result"
    }
   ],
   "source": [
    "files = os.listdir('./')\n",
    "csv_files = [f for f in files if \".csv\" in f]\n",
    "csv_files"
   ]
  },
  {
   "cell_type": "code",
   "execution_count": 24,
   "metadata": {},
   "outputs": [
    {
     "data": {
      "text/html": [
       "<div>\n",
       "<table border=\"1\" class=\"dataframe\">\n",
       "  <thead>\n",
       "    <tr style=\"text-align: right;\">\n",
       "      <th></th>\n",
       "      <th>ticker</th>\n",
       "      <th>price</th>\n",
       "      <th>time</th>\n",
       "      <th>meta_signal</th>\n",
       "      <th>previous_meta</th>\n",
       "      <th>4h</th>\n",
       "      <th>1d</th>\n",
       "      <th>1w</th>\n",
       "      <th>1m</th>\n",
       "      <th>4hp</th>\n",
       "      <th>1dp</th>\n",
       "      <th>1wp</th>\n",
       "      <th>1mp</th>\n",
       "    </tr>\n",
       "  </thead>\n",
       "  <tbody>\n",
       "    <tr>\n",
       "      <th>0</th>\n",
       "      <td>NASDAQ-AAPL</td>\n",
       "      <td>217.58</td>\n",
       "      <td>1534574531372</td>\n",
       "      <td>2</td>\n",
       "      <td>0</td>\n",
       "      <td>1</td>\n",
       "      <td>2</td>\n",
       "      <td>2</td>\n",
       "      <td>1</td>\n",
       "      <td>0</td>\n",
       "      <td>0</td>\n",
       "      <td>0</td>\n",
       "      <td>0</td>\n",
       "    </tr>\n",
       "    <tr>\n",
       "      <th>1</th>\n",
       "      <td>NYSE-ABBV</td>\n",
       "      <td>98.81</td>\n",
       "      <td>1534571111519</td>\n",
       "      <td>1</td>\n",
       "      <td>0</td>\n",
       "      <td>1</td>\n",
       "      <td>2</td>\n",
       "      <td>1</td>\n",
       "      <td>1</td>\n",
       "      <td>0</td>\n",
       "      <td>0</td>\n",
       "      <td>0</td>\n",
       "      <td>0</td>\n",
       "    </tr>\n",
       "  </tbody>\n",
       "</table>\n",
       "</div>"
      ],
      "text/plain": [
       "        ticker   price           time  meta_signal  previous_meta  4h  1d  1w  \\\n",
       "0  NASDAQ-AAPL  217.58  1534574531372            2              0   1   2   2   \n",
       "1    NYSE-ABBV   98.81  1534571111519            1              0   1   2   1   \n",
       "\n",
       "   1m  4hp  1dp  1wp  1mp  \n",
       "0   1    0    0    0    0  \n",
       "1   1    0    0    0    0  "
      ]
     },
     "execution_count": 24,
     "metadata": {},
     "output_type": "execute_result"
    }
   ],
   "source": [
    "frame = pd.DataFrame()\n",
    "list_ = []\n",
    "for file_ in csv_files:\n",
    "    df = pd.read_csv(file_,index_col=None, header=None)\n",
    "    list_.append(df)\n",
    "frame = pd.concat(list_)\n",
    "frame.columns = [\"ticker\", \"price\", \"time\", \n",
    "                \"meta_signal\", \"previous_meta\",\n",
    "                \"4h\",\"1d\",\"1w\",\"1m\",\n",
    "                \"4hp\",\"1dp\",\"1wp\",\"1mp\"]\n",
    "frame.head(2)"
   ]
  },
  {
   "cell_type": "code",
   "execution_count": 25,
   "metadata": {},
   "outputs": [
    {
     "data": {
      "text/html": [
       "<div>\n",
       "<table border=\"1\" class=\"dataframe\">\n",
       "  <thead>\n",
       "    <tr style=\"text-align: right;\">\n",
       "      <th></th>\n",
       "      <th>ticker</th>\n",
       "      <th>price</th>\n",
       "      <th>time</th>\n",
       "      <th>meta_signal</th>\n",
       "      <th>previous_meta</th>\n",
       "      <th>4h</th>\n",
       "      <th>1d</th>\n",
       "      <th>1w</th>\n",
       "      <th>1m</th>\n",
       "      <th>4hp</th>\n",
       "      <th>1dp</th>\n",
       "      <th>1wp</th>\n",
       "      <th>1mp</th>\n",
       "    </tr>\n",
       "  </thead>\n",
       "  <tbody>\n",
       "    <tr>\n",
       "      <th>101</th>\n",
       "      <td>NASDAQ-NVDA</td>\n",
       "      <td>244.82</td>\n",
       "      <td>1534573412624</td>\n",
       "      <td>0</td>\n",
       "      <td>0</td>\n",
       "      <td>-1</td>\n",
       "      <td>-1</td>\n",
       "      <td>1</td>\n",
       "      <td>1</td>\n",
       "      <td>0</td>\n",
       "      <td>0</td>\n",
       "      <td>0</td>\n",
       "      <td>0</td>\n",
       "    </tr>\n",
       "  </tbody>\n",
       "</table>\n",
       "</div>"
      ],
      "text/plain": [
       "          ticker   price           time  meta_signal  previous_meta  4h  1d  \\\n",
       "101  NASDAQ-NVDA  244.82  1534573412624            0              0  -1  -1   \n",
       "\n",
       "     1w  1m  4hp  1dp  1wp  1mp  \n",
       "101   1   1    0    0    0    0  "
      ]
     },
     "execution_count": 25,
     "metadata": {},
     "output_type": "execute_result"
    }
   ],
   "source": [
    "nvda = frame[frame.ticker.astype(str).str.match(\"NASDAQ-NVDA\")]\n",
    "nvda"
   ]
  },
  {
   "cell_type": "code",
   "execution_count": null,
   "metadata": {},
   "outputs": [],
   "source": []
  },
  {
   "cell_type": "code",
   "execution_count": null,
   "metadata": {},
   "outputs": [],
   "source": []
  }
 ],
 "metadata": {
  "kernelspec": {
   "display_name": "Python 3",
   "language": "python",
   "name": "python3"
  },
  "language_info": {
   "codemirror_mode": {
    "name": "ipython",
    "version": 3
   },
   "file_extension": ".py",
   "mimetype": "text/x-python",
   "name": "python",
   "nbconvert_exporter": "python",
   "pygments_lexer": "ipython3",
   "version": "3.6.3"
  }
 },
 "nbformat": 4,
 "nbformat_minor": 2
}
