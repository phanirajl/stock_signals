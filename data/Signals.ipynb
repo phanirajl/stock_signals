{
 "cells": [
  {
   "cell_type": "code",
   "execution_count": 89,
   "metadata": {},
   "outputs": [],
   "source": [
    "import pandas as pd\n",
    "import os\n",
    "import matplotlib as plt"
   ]
  },
  {
   "cell_type": "code",
   "execution_count": 90,
   "metadata": {},
   "outputs": [
    {
     "data": {
      "text/plain": [
       "['signals.2018-08-17-222339.0.csv', 'signals.2018-08-18-063826.0.csv']"
      ]
     },
     "execution_count": 90,
     "metadata": {},
     "output_type": "execute_result"
    }
   ],
   "source": [
    "files = os.listdir('./')\n",
    "csv_files = [f for f in files if \"0.csv\" in f]\n",
    "csv_files"
   ]
  },
  {
   "cell_type": "code",
   "execution_count": 91,
   "metadata": {},
   "outputs": [
    {
     "data": {
      "text/html": [
       "<div>\n",
       "<table border=\"1\" class=\"dataframe\">\n",
       "  <thead>\n",
       "    <tr style=\"text-align: right;\">\n",
       "      <th></th>\n",
       "      <th>ticker</th>\n",
       "      <th>price</th>\n",
       "      <th>time</th>\n",
       "      <th>meta_signal</th>\n",
       "      <th>previous_meta</th>\n",
       "      <th>4h</th>\n",
       "      <th>1d</th>\n",
       "      <th>1w</th>\n",
       "      <th>1m</th>\n",
       "      <th>4hp</th>\n",
       "      <th>1dp</th>\n",
       "      <th>1wp</th>\n",
       "      <th>1mp</th>\n",
       "    </tr>\n",
       "  </thead>\n",
       "  <tbody>\n",
       "    <tr>\n",
       "      <th>17</th>\n",
       "      <td>AMEX-BTG</td>\n",
       "      <td>2.16</td>\n",
       "      <td>1534571497681</td>\n",
       "      <td>-1</td>\n",
       "      <td>0</td>\n",
       "      <td>-1</td>\n",
       "      <td>-1</td>\n",
       "      <td>-1</td>\n",
       "      <td>-1</td>\n",
       "      <td>0</td>\n",
       "      <td>0</td>\n",
       "      <td>0</td>\n",
       "      <td>0</td>\n",
       "    </tr>\n",
       "    <tr>\n",
       "      <th>17</th>\n",
       "      <td>AMEX-BTG</td>\n",
       "      <td>2.16</td>\n",
       "      <td>1534604009032</td>\n",
       "      <td>-1</td>\n",
       "      <td>0</td>\n",
       "      <td>-1</td>\n",
       "      <td>-1</td>\n",
       "      <td>-1</td>\n",
       "      <td>-1</td>\n",
       "      <td>0</td>\n",
       "      <td>0</td>\n",
       "      <td>0</td>\n",
       "      <td>0</td>\n",
       "    </tr>\n",
       "    <tr>\n",
       "      <th>29</th>\n",
       "      <td>AMEX-COPX</td>\n",
       "      <td>20.96</td>\n",
       "      <td>1534571773235</td>\n",
       "      <td>-1</td>\n",
       "      <td>0</td>\n",
       "      <td>-1</td>\n",
       "      <td>-1</td>\n",
       "      <td>-1</td>\n",
       "      <td>-1</td>\n",
       "      <td>0</td>\n",
       "      <td>0</td>\n",
       "      <td>0</td>\n",
       "      <td>0</td>\n",
       "    </tr>\n",
       "    <tr>\n",
       "      <th>29</th>\n",
       "      <td>AMEX-COPX</td>\n",
       "      <td>20.96</td>\n",
       "      <td>1534604312033</td>\n",
       "      <td>-1</td>\n",
       "      <td>0</td>\n",
       "      <td>-1</td>\n",
       "      <td>-1</td>\n",
       "      <td>-1</td>\n",
       "      <td>-1</td>\n",
       "      <td>0</td>\n",
       "      <td>0</td>\n",
       "      <td>0</td>\n",
       "      <td>0</td>\n",
       "    </tr>\n",
       "    <tr>\n",
       "      <th>35</th>\n",
       "      <td>AMEX-DGRO</td>\n",
       "      <td>36.73</td>\n",
       "      <td>1534571911008</td>\n",
       "      <td>2</td>\n",
       "      <td>0</td>\n",
       "      <td>1</td>\n",
       "      <td>1</td>\n",
       "      <td>2</td>\n",
       "      <td>2</td>\n",
       "      <td>0</td>\n",
       "      <td>0</td>\n",
       "      <td>0</td>\n",
       "      <td>0</td>\n",
       "    </tr>\n",
       "  </tbody>\n",
       "</table>\n",
       "</div>"
      ],
      "text/plain": [
       "       ticker  price           time  meta_signal  previous_meta  4h  1d  1w  \\\n",
       "17   AMEX-BTG   2.16  1534571497681           -1              0  -1  -1  -1   \n",
       "17   AMEX-BTG   2.16  1534604009032           -1              0  -1  -1  -1   \n",
       "29  AMEX-COPX  20.96  1534571773235           -1              0  -1  -1  -1   \n",
       "29  AMEX-COPX  20.96  1534604312033           -1              0  -1  -1  -1   \n",
       "35  AMEX-DGRO  36.73  1534571911008            2              0   1   1   2   \n",
       "\n",
       "    1m  4hp  1dp  1wp  1mp  \n",
       "17  -1    0    0    0    0  \n",
       "17  -1    0    0    0    0  \n",
       "29  -1    0    0    0    0  \n",
       "29  -1    0    0    0    0  \n",
       "35   2    0    0    0    0  "
      ]
     },
     "execution_count": 91,
     "metadata": {},
     "output_type": "execute_result"
    }
   ],
   "source": [
    "frame = pd.DataFrame()\n",
    "list_ = []\n",
    "for file_ in csv_files:\n",
    "    df = pd.read_csv(file_,index_col=None, header=None)\n",
    "    list_.append(df)\n",
    "frame = pd.concat(list_)\n",
    "frame.columns = [\"ticker\", \"price\", \"time\", \n",
    "                \"meta_signal\", \"previous_meta\",\n",
    "                \"4h\",\"1d\",\"1w\",\"1m\",\n",
    "                \"4hp\",\"1dp\",\"1wp\",\"1mp\"]\n",
    "frame.sort_values(['ticker', 'time'], inplace=True)\n",
    "frame.head(5)"
   ]
  },
  {
   "cell_type": "code",
   "execution_count": 92,
   "metadata": {},
   "outputs": [
    {
     "data": {
      "text/plain": [
       "(308, 13)"
      ]
     },
     "execution_count": 92,
     "metadata": {},
     "output_type": "execute_result"
    }
   ],
   "source": [
    "frame.shape"
   ]
  },
  {
   "cell_type": "code",
   "execution_count": 93,
   "metadata": {},
   "outputs": [
    {
     "data": {
      "text/html": [
       "<div>\n",
       "<table border=\"1\" class=\"dataframe\">\n",
       "  <thead>\n",
       "    <tr style=\"text-align: right;\">\n",
       "      <th></th>\n",
       "      <th>ticker</th>\n",
       "      <th>price</th>\n",
       "      <th>time</th>\n",
       "      <th>meta_signal</th>\n",
       "      <th>previous_meta</th>\n",
       "      <th>4h</th>\n",
       "      <th>1d</th>\n",
       "      <th>1w</th>\n",
       "      <th>1m</th>\n",
       "      <th>4hp</th>\n",
       "      <th>1dp</th>\n",
       "      <th>1wp</th>\n",
       "      <th>1mp</th>\n",
       "    </tr>\n",
       "  </thead>\n",
       "  <tbody>\n",
       "    <tr>\n",
       "      <th>146</th>\n",
       "      <td>NASDAQ-VYMI</td>\n",
       "      <td>NaN</td>\n",
       "      <td>1534607161567</td>\n",
       "      <td>-1</td>\n",
       "      <td>0</td>\n",
       "      <td>-1</td>\n",
       "      <td>-2</td>\n",
       "      <td>-1</td>\n",
       "      <td>-1</td>\n",
       "      <td>-2</td>\n",
       "      <td>0</td>\n",
       "      <td>0</td>\n",
       "      <td>0</td>\n",
       "    </tr>\n",
       "    <tr>\n",
       "      <th>45</th>\n",
       "      <td>NYSE-EXG</td>\n",
       "      <td>NaN</td>\n",
       "      <td>1534604715456</td>\n",
       "      <td>2</td>\n",
       "      <td>0</td>\n",
       "      <td>2</td>\n",
       "      <td>1</td>\n",
       "      <td>2</td>\n",
       "      <td>1</td>\n",
       "      <td>1</td>\n",
       "      <td>0</td>\n",
       "      <td>0</td>\n",
       "      <td>0</td>\n",
       "    </tr>\n",
       "  </tbody>\n",
       "</table>\n",
       "</div>"
      ],
      "text/plain": [
       "          ticker  price           time  meta_signal  previous_meta  4h  1d  \\\n",
       "146  NASDAQ-VYMI    NaN  1534607161567           -1              0  -1  -2   \n",
       "45      NYSE-EXG    NaN  1534604715456            2              0   2   1   \n",
       "\n",
       "     1w  1m  4hp  1dp  1wp  1mp  \n",
       "146  -1  -1   -2    0    0    0  \n",
       "45    2   1    1    0    0    0  "
      ]
     },
     "execution_count": 93,
     "metadata": {},
     "output_type": "execute_result"
    }
   ],
   "source": [
    "# failures to get price (numeric conversion)\n",
    "frame[frame.price.isnull()]"
   ]
  },
  {
   "cell_type": "code",
   "execution_count": 94,
   "metadata": {},
   "outputs": [
    {
     "data": {
      "text/plain": [
       "(306, 13)"
      ]
     },
     "execution_count": 94,
     "metadata": {},
     "output_type": "execute_result"
    }
   ],
   "source": [
    "frame = frame.dropna()\n",
    "frame.shape"
   ]
  },
  {
   "cell_type": "code",
   "execution_count": 95,
   "metadata": {},
   "outputs": [
    {
     "data": {
      "text/html": [
       "<div>\n",
       "<table border=\"1\" class=\"dataframe\">\n",
       "  <thead>\n",
       "    <tr style=\"text-align: right;\">\n",
       "      <th></th>\n",
       "      <th>ticker</th>\n",
       "      <th>price</th>\n",
       "      <th>time</th>\n",
       "      <th>meta_signal</th>\n",
       "      <th>previous_meta</th>\n",
       "      <th>4h</th>\n",
       "      <th>1d</th>\n",
       "      <th>1w</th>\n",
       "      <th>1m</th>\n",
       "      <th>4hp</th>\n",
       "      <th>1dp</th>\n",
       "      <th>1wp</th>\n",
       "      <th>1mp</th>\n",
       "    </tr>\n",
       "  </thead>\n",
       "  <tbody>\n",
       "    <tr>\n",
       "      <th>63</th>\n",
       "      <td>AMEX-GTE</td>\n",
       "      <td>0.0</td>\n",
       "      <td>1534605165732</td>\n",
       "      <td>0</td>\n",
       "      <td>0</td>\n",
       "      <td>-1</td>\n",
       "      <td>-1</td>\n",
       "      <td>0</td>\n",
       "      <td>1</td>\n",
       "      <td>0</td>\n",
       "      <td>0</td>\n",
       "      <td>0</td>\n",
       "      <td>0</td>\n",
       "    </tr>\n",
       "    <tr>\n",
       "      <th>57</th>\n",
       "      <td>NASDAQ-GERN</td>\n",
       "      <td>0.0</td>\n",
       "      <td>1534605014514</td>\n",
       "      <td>1</td>\n",
       "      <td>0</td>\n",
       "      <td>1</td>\n",
       "      <td>1</td>\n",
       "      <td>1</td>\n",
       "      <td>1</td>\n",
       "      <td>0</td>\n",
       "      <td>0</td>\n",
       "      <td>0</td>\n",
       "      <td>0</td>\n",
       "    </tr>\n",
       "  </tbody>\n",
       "</table>\n",
       "</div>"
      ],
      "text/plain": [
       "         ticker  price           time  meta_signal  previous_meta  4h  1d  1w  \\\n",
       "63     AMEX-GTE    0.0  1534605165732            0              0  -1  -1   0   \n",
       "57  NASDAQ-GERN    0.0  1534605014514            1              0   1   1   1   \n",
       "\n",
       "    1m  4hp  1dp  1wp  1mp  \n",
       "63   1    0    0    0    0  \n",
       "57   1    0    0    0    0  "
      ]
     },
     "execution_count": 95,
     "metadata": {},
     "output_type": "execute_result"
    }
   ],
   "source": [
    "# more failures to get price\n",
    "frame[frame.price == 0]"
   ]
  },
  {
   "cell_type": "code",
   "execution_count": 96,
   "metadata": {},
   "outputs": [
    {
     "data": {
      "text/plain": [
       "(304, 13)"
      ]
     },
     "execution_count": 96,
     "metadata": {},
     "output_type": "execute_result"
    }
   ],
   "source": [
    "frame = frame[frame.price!=0]\n",
    "frame.shape"
   ]
  },
  {
   "cell_type": "code",
   "execution_count": 97,
   "metadata": {},
   "outputs": [
    {
     "data": {
      "text/html": [
       "<div>\n",
       "<table border=\"1\" class=\"dataframe\">\n",
       "  <thead>\n",
       "    <tr style=\"text-align: right;\">\n",
       "      <th></th>\n",
       "      <th>ticker</th>\n",
       "      <th>price</th>\n",
       "      <th>time</th>\n",
       "      <th>meta_signal</th>\n",
       "      <th>previous_meta</th>\n",
       "      <th>4h</th>\n",
       "      <th>1d</th>\n",
       "      <th>1w</th>\n",
       "      <th>1m</th>\n",
       "      <th>4hp</th>\n",
       "      <th>1dp</th>\n",
       "      <th>1wp</th>\n",
       "      <th>1mp</th>\n",
       "    </tr>\n",
       "  </thead>\n",
       "  <tbody>\n",
       "    <tr>\n",
       "      <th>1</th>\n",
       "      <td>NYSE-ABBV</td>\n",
       "      <td>98.81</td>\n",
       "      <td>1534571111519</td>\n",
       "      <td>1</td>\n",
       "      <td>0</td>\n",
       "      <td>1</td>\n",
       "      <td>2</td>\n",
       "      <td>1</td>\n",
       "      <td>1</td>\n",
       "      <td>0</td>\n",
       "      <td>0</td>\n",
       "      <td>0</td>\n",
       "      <td>0</td>\n",
       "    </tr>\n",
       "    <tr>\n",
       "      <th>1</th>\n",
       "      <td>NYSE-ABBV</td>\n",
       "      <td>98.81</td>\n",
       "      <td>1534603601535</td>\n",
       "      <td>1</td>\n",
       "      <td>0</td>\n",
       "      <td>1</td>\n",
       "      <td>2</td>\n",
       "      <td>1</td>\n",
       "      <td>1</td>\n",
       "      <td>0</td>\n",
       "      <td>0</td>\n",
       "      <td>0</td>\n",
       "      <td>0</td>\n",
       "    </tr>\n",
       "  </tbody>\n",
       "</table>\n",
       "</div>"
      ],
      "text/plain": [
       "      ticker  price           time  meta_signal  previous_meta  4h  1d  1w  \\\n",
       "1  NYSE-ABBV  98.81  1534571111519            1              0   1   2   1   \n",
       "1  NYSE-ABBV  98.81  1534603601535            1              0   1   2   1   \n",
       "\n",
       "   1m  4hp  1dp  1wp  1mp  \n",
       "1   1    0    0    0    0  \n",
       "1   1    0    0    0    0  "
      ]
     },
     "execution_count": 97,
     "metadata": {},
     "output_type": "execute_result"
    }
   ],
   "source": [
    "abbv = frame[frame.ticker.astype(str).str.match(\"NYSE-ABBV\")]\n",
    "abbv"
   ]
  },
  {
   "cell_type": "code",
   "execution_count": 98,
   "metadata": {},
   "outputs": [
    {
     "data": {
      "text/html": [
       "<div>\n",
       "<table border=\"1\" class=\"dataframe\">\n",
       "  <thead>\n",
       "    <tr style=\"text-align: right;\">\n",
       "      <th></th>\n",
       "      <th>ticker</th>\n",
       "      <th>price</th>\n",
       "      <th>time</th>\n",
       "      <th>meta_signal</th>\n",
       "      <th>previous_meta</th>\n",
       "      <th>4h</th>\n",
       "      <th>1d</th>\n",
       "      <th>1w</th>\n",
       "      <th>1m</th>\n",
       "      <th>4hp</th>\n",
       "      <th>1dp</th>\n",
       "      <th>1wp</th>\n",
       "      <th>1mp</th>\n",
       "    </tr>\n",
       "  </thead>\n",
       "  <tbody>\n",
       "    <tr>\n",
       "      <th>1</th>\n",
       "      <td>NYSE-ABBV</td>\n",
       "      <td>98.81</td>\n",
       "      <td>1534571111519</td>\n",
       "      <td>1</td>\n",
       "      <td>0</td>\n",
       "      <td>1</td>\n",
       "      <td>2</td>\n",
       "      <td>1</td>\n",
       "      <td>1</td>\n",
       "      <td>0</td>\n",
       "      <td>0</td>\n",
       "      <td>0</td>\n",
       "      <td>0</td>\n",
       "    </tr>\n",
       "  </tbody>\n",
       "</table>\n",
       "</div>"
      ],
      "text/plain": [
       "      ticker  price           time  meta_signal  previous_meta  4h  1d  1w  \\\n",
       "1  NYSE-ABBV  98.81  1534571111519            1              0   1   2   1   \n",
       "\n",
       "   1m  4hp  1dp  1wp  1mp  \n",
       "1   1    0    0    0    0  "
      ]
     },
     "execution_count": 98,
     "metadata": {},
     "output_type": "execute_result"
    }
   ],
   "source": [
    "# only get records where something changed (price, or indicators)\n",
    "df = frame.drop_duplicates([\"ticker\", \"price\", \n",
    "                \"meta_signal\", \"previous_meta\",\n",
    "                \"4h\",\"1d\",\"1w\",\"1m\",\n",
    "                \"4hp\",\"1dp\",\"1wp\",\"1mp\"])\n",
    "df[df.ticker.astype(str).str.match(\"NYSE-ABBV\")]"
   ]
  },
  {
   "cell_type": "code",
   "execution_count": 99,
   "metadata": {},
   "outputs": [
    {
     "data": {
      "text/plain": [
       "155"
      ]
     },
     "execution_count": 99,
     "metadata": {},
     "output_type": "execute_result"
    }
   ],
   "source": [
    "# test that we have expected number of unique tickers (at least one entry for each)\n",
    "# currently, we have 155 tickers\n",
    "df['ticker'].nunique()"
   ]
  },
  {
   "cell_type": "code",
   "execution_count": 100,
   "metadata": {},
   "outputs": [],
   "source": [
    "# export new, cleaned db file\n",
    "df.to_csv('./signals.csv', header=None, index=None)"
   ]
  }
 ],
 "metadata": {
  "kernelspec": {
   "display_name": "Python 3",
   "language": "python",
   "name": "python3"
  },
  "language_info": {
   "codemirror_mode": {
    "name": "ipython",
    "version": 3
   },
   "file_extension": ".py",
   "mimetype": "text/x-python",
   "name": "python",
   "nbconvert_exporter": "python",
   "pygments_lexer": "ipython3",
   "version": "3.6.3"
  }
 },
 "nbformat": 4,
 "nbformat_minor": 2
}
